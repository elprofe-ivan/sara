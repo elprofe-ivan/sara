{
 "cells": [
  {
   "cell_type": "markdown",
   "metadata": {
    "pycharm": {
     "name": "#%% md\n"
    }
   },
   "source": [
    "This is a data preparation procedure for the Uniprot database.\n",
    "\n",
    "You take the gene information from the CSV files, and map it to Uniprot in order to obtain the proteins"
   ]
  },
  {
   "cell_type": "code",
   "execution_count": 6,
   "metadata": {
    "collapsed": false,
    "jupyter": {
     "outputs_hidden": false
    },
    "pycharm": {
     "name": "#%%\n"
    }
   },
   "outputs": [],
   "source": [
    "import pandas as pd\n",
    "\n",
    "# Read genes diseases and relationship dataframes from files\n",
    "genes_df = pd.read_csv(filepath_or_buffer='C:/Users/Admin/Desktop/pythonProject/sara/data/email_attachments/genes.csv', sep=';')\n",
    "#relationship_df = pd.read_csv(filepath_or_buffer='C:/Users/Admin/Desktop/pythonProject/sara/data/email_attachments/relationship.csv', sep=';')\n",
    "#diseases_df = pd.read_csv(filepath_or_buffer='C:/Users/Admin/Desktop/pythonProject/sara/data/email_attachments/diseases.csv', sep=';')"
   ]
  },
  {
   "cell_type": "code",
   "execution_count": 9,
   "metadata": {},
   "outputs": [
    {
     "data": {
      "text/plain": [
       "1         PVR\n",
       "2      147620\n",
       "3      605956\n",
       "4      608543\n",
       "5      607093\n",
       "        ...  \n",
       "220    604297\n",
       "221    605648\n",
       "222    603604\n",
       "223    300557\n",
       "224    300144\n",
       "Name: Gene Name, Length: 224, dtype: object"
      ]
     },
     "execution_count": 9,
     "metadata": {},
     "output_type": "execute_result"
    }
   ],
   "source": [
    "#genes_df.head\n",
    "genes_df['Gene Name']"
   ]
  },
  {
   "cell_type": "markdown",
   "metadata": {
    "pycharm": {
     "name": "#%% md\n"
    }
   },
   "source": [
    "We have to select only the important information from Uniprot\n",
    "\n",
    "Steps:\n",
    "\n",
    "* First, we load Uniprot XML to memory"
   ]
  },
  {
   "cell_type": "code",
   "execution_count": null,
   "metadata": {
    "collapsed": false,
    "jupyter": {
     "outputs_hidden": false
    },
    "pycharm": {
     "name": "#%%\n"
    }
   },
   "outputs": [],
   "source": [
    "import xml.etree.ElementTree as et\n",
    "tree = et.parse('data/uniprot_sprot.xml')\n",
    "root = tree.getroot()"
   ]
  }
 ],
 "metadata": {
  "kernelspec": {
   "display_name": "Python 3",
   "language": "python",
   "name": "python3"
  },
  "language_info": {
   "codemirror_mode": {
    "name": "ipython",
    "version": 3
   },
   "file_extension": ".py",
   "mimetype": "text/x-python",
   "name": "python",
   "nbconvert_exporter": "python",
   "pygments_lexer": "ipython3",
   "version": "3.8.3"
  }
 },
 "nbformat": 4,
 "nbformat_minor": 4
}
