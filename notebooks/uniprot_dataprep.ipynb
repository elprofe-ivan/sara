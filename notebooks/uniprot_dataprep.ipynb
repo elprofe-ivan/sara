{
 "cells": [
  {
   "cell_type": "markdown",
   "metadata": {
    "collapsed": true,
    "pycharm": {
     "name": "#%% md\n"
    }
   },
   "source": [
    "This is a data preparation procedure for the Uniprot database.\n",
    "\n",
    "You take the gene information from the CSV files, and map it to Uniprot in order to obtain the proteins"
   ]
  },
  {
   "cell_type": "code",
   "execution_count": null,
   "outputs": [],
   "source": [
    "import pandas as pd\n",
    "\n",
    "# Read genes diseases and relationship dataframes from files\n",
    "genes_df = pd.read_csv(filepath_or_buffer='data/email_attachments/genes.csv', sep=';')\n",
    "relationship_df = pd.read_csv(filepath_or_buffer='data/email_attachments/relationship.csv', sep=';')\n",
    "diseases_df = pd.read_csv(filepath_or_buffer='data/email_attachments/diseases.csv', sep=';')"
   ],
   "metadata": {
    "collapsed": false,
    "pycharm": {
     "name": "#%%\n"
    }
   }
  },
  {
   "cell_type": "markdown",
   "source": [
    "We have to select only the important information from Uniprot\n",
    "\n",
    "Steps:\n",
    "\n",
    "* First, we load Uniprot XML to memory"
   ],
   "metadata": {
    "collapsed": false,
    "pycharm": {
     "name": "#%% md\n"
    }
   }
  },
  {
   "cell_type": "code",
   "execution_count": null,
   "outputs": [],
   "source": [
    "import xml.etree.ElementTree as et\n",
    "tree = et.parse('data/uniprot_sprot.xml')\n",
    "root = tree.getroot()"
   ],
   "metadata": {
    "collapsed": false,
    "pycharm": {
     "name": "#%%\n"
    }
   }
  }
 ],
 "metadata": {
  "kernelspec": {
   "display_name": "Python 3",
   "language": "python",
   "name": "python3"
  },
  "language_info": {
   "codemirror_mode": {
    "name": "ipython",
    "version": 2
   },
   "file_extension": ".py",
   "mimetype": "text/x-python",
   "name": "python",
   "nbconvert_exporter": "python",
   "pygments_lexer": "ipython2",
   "version": "2.7.6"
  }
 },
 "nbformat": 4,
 "nbformat_minor": 0
}