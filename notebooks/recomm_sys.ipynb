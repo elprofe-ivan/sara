{
 "cells": [
  {
   "cell_type": "markdown",
   "source": [
    "# Simple Matrix Factorization Collaborative Filtering for Drug Repositioning on Diseases\n",
    "\n",
    "The discovery of new biological interactions, such as interactions between drugs and diseases"
   ],
   "metadata": {
    "collapsed": false
   }
  },
  {
   "cell_type": "code",
   "execution_count": null,
   "outputs": [],
   "source": [
    "import pandas as pd\n",
    "dis_drg = pd.read_csv(filepath_or_buffer='data/email_attachments/diseases_drugs_th.csv', index_col=0)\n",
    "\n",
    "# cell_df = pd.read_csv(filepath_or_buffer='data/cell_summary.csv', index_col=0)\n",
    "# comp_df = pd.read_csv(filepath_or_buffer='data/comp_summary.csv', index_col=0)\n"
   ],
   "metadata": {
    "collapsed": false,
    "pycharm": {
     "name": "#%%\n"
    }
   }
  },
  {
   "cell_type": "markdown",
   "metadata": {
    "collapsed": true,
    "pycharm": {
     "name": "#%% md\n"
    }
   },
   "source": [
    "Next program is to GridSearch the best algorithm and then compare training performance with test dataset v27"
   ]
  },
  {
   "cell_type": "code",
   "execution_count": null,
   "outputs": [],
   "source": [
    "from surprise import Dataset\n",
    "from surprise import Reader\n",
    "from surprise.model_selection import GridSearchCV\n",
    "from surprise import SVD\n",
    "from surprise import accuracy\n",
    "import numpy as np\n",
    "\n",
    "dis_drg['Interaction'] = np.ones(dis_drg.shape[0])\n",
    "reader = Reader(rating_scale=(0, 1))\n",
    "data = Dataset.load_from_df(dis_drg, reader)\n",
    "    # activity_24[['cell_id', 'scomp_id', 'activity']], reader)\n",
    "\n",
    "param_grid = {'n_factors': [10, 50, 100, 200, 300],\n",
    "              'n_epochs': [30], #Best is: 300\n",
    "              'lr_all': [0.002], #Best is .002\n",
    "              'reg_all': [0.1], #Best is .1\n",
    "              'biased' : [True]\n",
    "              }\n",
    "\n",
    "param_grid = {'n_factors': [10, 50, 100, 200, 300, 400, 500, 1000, 2000, 5000], #Best is: 10\n",
    "              'n_epochs': [10, 50, 100, 200, 300, 400, 500], #Best is: 300\n",
    "              'lr_all': [0.001, 0.002, 0.005, 0.01, 0.02, 0.05], #Best is .002\n",
    "              'reg_all': [0.01, 0.05, 0.1, 0.2, 0.4, 0.6, 0.8, 1.0], #Best is .1\n",
    "              'biased' : [True, False] #Best is True\n",
    "              }\n",
    "\n",
    "grid_search = GridSearchCV(SVD, param_grid=param_grid, measures=['rmse', 'mae'], cv=10, n_jobs=-1, refit=True)\n",
    "grid_search.fit(data)\n",
    "\n",
    "algo = grid_search.best_estimator['rmse']\n",
    "print(algo)"
   ],
   "metadata": {
    "collapsed": false,
    "pycharm": {
     "name": "#%%\n"
    }
   }
  },
  {
   "cell_type": "markdown",
   "source": [
    "Now, we perform predictions"
   ],
   "metadata": {
    "collapsed": false
   }
  },
  {
   "cell_type": "code",
   "execution_count": null,
   "outputs": [],
   "source": [
    "from surprise.model_selection import train_test_split\n",
    "\n",
    "trainset = data.build_full_trainset()\n",
    "# trainset, testset = train_test_split(data, test_size=.2)\n",
    "algo.fit(trainset)\n",
    "predictions = algo.test(trainset.build_anti_testset(fill=0))\n",
    "# predictions = algo.test(trainset.build_testset())\n",
    "# predictions = algo.test(testset)\n",
    "print('Biased accuracy on v24,', end='   ')\n",
    "\n",
    "accuracy.rmse(predictions)\n"
   ],
   "metadata": {
    "collapsed": false,
    "pycharm": {
     "name": "#%%\n"
    }
   }
  },
  {
   "cell_type": "markdown",
   "source": [
    "Finally, we calculate and plot ROC and AUC"
   ],
   "metadata": {
    "collapsed": false
   }
  },
  {
   "cell_type": "code",
   "execution_count": null,
   "outputs": [],
   "source": [
    "r = list()\n",
    "est = list()\n",
    "for p in predictions:\n",
    "    r.append(p.r_ui)\n",
    "    est.append(p.est)\n",
    "\n",
    "import matplotlib.pyplot as plt\n",
    "plt.scatter(r, est)\n",
    "plt.show()\n",
    "plt.savefig('img/surprise_gridcv_v24v27.png')\n",
    "plt.close()\n",
    "\n",
    "#ROC Curve\n",
    "from sklearn import metrics\n",
    "y = pd.DataFrame({'r':r, 'est':est})\n",
    "\n",
    "y.loc[y['r'] == -1, 'r'] = 0\n",
    "\n",
    "fpr, tpr, thresholds = metrics.roc_curve(y_true=y['r'], y_score=y['est'])\n",
    "auc = metrics.roc_auc_score(y_true=y['r'], y_score=y['est'])\n",
    "print('AUC: %.9f' % auc)\n",
    "\n",
    "\n",
    "import matplotlib.pyplot as plt\n",
    "plt.plot(fpr, tpr, color='orange', label='ROC')\n",
    "plt.plot([0, 1], [0, 1], color='darkblue', linestyle='--')\n",
    "plt.xlabel('False Positive Rate')\n",
    "plt.ylabel('True Positive Rate')\n",
    "plt.title('Receiver Operating Characteristic (ROC) Curve')\n",
    "plt.legend()\n",
    "plt.show()\n",
    "plt.savefig('img/surprise_roc_v24v27.png')\n",
    "plt.close()"
   ],
   "metadata": {
    "collapsed": false,
    "pycharm": {
     "name": "#%%\n"
    }
   }
  }
 ],
 "metadata": {
  "kernelspec": {
   "display_name": "Python 3",
   "language": "python",
   "name": "python3"
  },
  "language_info": {
   "codemirror_mode": {
    "name": "ipython",
    "version": 2
   },
   "file_extension": ".py",
   "mimetype": "text/x-python",
   "name": "python",
   "nbconvert_exporter": "python",
   "pygments_lexer": "ipython2",
   "version": "2.7.6"
  }
 },
 "nbformat": 4,
 "nbformat_minor": 0
}